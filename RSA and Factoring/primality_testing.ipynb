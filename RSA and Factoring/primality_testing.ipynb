{
 "cells": [
  {
   "cell_type": "markdown",
   "id": "a4c64bdb",
   "metadata": {},
   "source": [
    "# Primality Testing\n",
    "\n",
    "For RSA, we needed two large primes $p$ and $q$, to compute $n$ and $\\phi(n)$. But how do we find these large primes? In practice, the most efficient way to find large random primes is to generate large random numbers and test them to see if they are prime. This brings us to "
   ]
  }
 ],
 "metadata": {
  "kernelspec": {
   "display_name": "Python 3",
   "language": "python",
   "name": "python3"
  },
  "language_info": {
   "codemirror_mode": {
    "name": "ipython",
    "version": 3
   },
   "file_extension": ".py",
   "mimetype": "text/x-python",
   "name": "python",
   "nbconvert_exporter": "python",
   "pygments_lexer": "ipython3",
   "version": "3.8.3"
  }
 },
 "nbformat": 4,
 "nbformat_minor": 5
}
