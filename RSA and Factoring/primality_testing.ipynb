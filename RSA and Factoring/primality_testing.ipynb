{
 "cells": [
  {
   "cell_type": "markdown",
   "id": "b68a7b33",
   "metadata": {},
   "source": [
    "# Primality Testing\n",
    "\n",
    "For RSA, we needed two large primes $p$ and $q$, to compute $n$ and $\\phi(n)$. But how do we find these large primes? In practice, the most efficient way to find large random primes is to generate large random numbers and test them to see if they are prime. This brings us to <i>primality testing</i>, a family of algorithms that (deterministicly or probabilisticly) tell if a number is prime or composite."
   ]
  },
  {
   "cell_type": "code",
   "execution_count": 6,
   "id": "19b969fe",
   "metadata": {},
   "outputs": [],
   "source": [
    "import math\n",
    "import numpy as np"
   ]
  },
  {
   "cell_type": "code",
   "execution_count": 45,
   "id": "fc9e0e8e",
   "metadata": {},
   "outputs": [],
   "source": [
    "def quadratic_residue(a, p):\n",
    "    \"\"\"\n",
    "    Determine whether a is a quadratic residue modulo p\n",
    "    \n",
    "    p is prime\n",
    "    a is an integer\n",
    "    \n",
    "    return True if a^((p-1)/2) = 1 (mod p)\n",
    "    \"\"\"\n",
    "    \n",
    "    base = (a ** ((p - 1) / 2)) % p\n",
    "    \n",
    "    return base == 1"
   ]
  },
  {
   "cell_type": "code",
   "execution_count": 47,
   "id": "9e5c3e05",
   "metadata": {},
   "outputs": [],
   "source": [
    "def legendre(a, p):\n",
    "    \"\"\"\n",
    "    p must be prime\n",
    "    a is an integer\n",
    "    \"\"\"\n",
    "    \n",
    "    m = a % p\n",
    "    \n",
    "    if m == 0:\n",
    "        return 0\n",
    "    \n",
    "    if quadratic_residue(a, p):\n",
    "        return 1\n",
    "    \n",
    "    return -1"
   ]
  },
  {
   "cell_type": "code",
   "execution_count": 48,
   "id": "45a62ef0",
   "metadata": {},
   "outputs": [],
   "source": [
    "def is_prime(n):\n",
    "    \"\"\"\n",
    "    If a number n is composite, it must have a prime \n",
    "        divisor between 2 and sqrt(n) inclusive\n",
    "        Proof: Suppose n = pq is composite, where p,q\n",
    "            are prime, and p,q > sqrt(n).\n",
    "            Then pq > sqrt(n)*sqrt(n) = n, thus n!= pq\n",
    "    We loop through all prime numbers from 2 to sqrt(n),\n",
    "        seeing if n % p == 0. If so, then p|n, and n is \n",
    "        composite. If we reach the end of the loop,\n",
    "        n is determined to be prime\n",
    "    \"\"\"\n",
    "\n",
    "    if n < 10:\n",
    "        if n in [2, 3, 5, 7]:\n",
    "            return True\n",
    "        return False\n",
    "    upper_limit = math.ceil(math.sqrt(n))\n",
    "    for i in range(2, upper_limit + 1):\n",
    "        if is_prime(i):\n",
    "            if n%i == 0:\n",
    "                return False\n",
    "    \n",
    "    # At this point we have looped through all possible prime\n",
    "    #  divisors, and none divide n, so n is not prime\n",
    "    \n",
    "    return True"
   ]
  },
  {
   "cell_type": "code",
   "execution_count": 49,
   "id": "e0b07b81",
   "metadata": {},
   "outputs": [],
   "source": [
    "def prime_factorization(n, prime_list = None):\n",
    "    \"\"\"\n",
    "    Returns the prime factorization of n\n",
    "    Input:\n",
    "        n - integer\n",
    "        \n",
    "    Output:\n",
    "        prime_decomp - list of tuples (p_i, a_i) where n = prod(p_i ^ a_i)\n",
    "    \"\"\"\n",
    "    \n",
    "    upper_limit = math.ceil(math.sqrt(n))\n",
    "    prime_decomp = list()\n",
    "    \n",
    "    if is_prime(n):\n",
    "        prime_decomp.append((n, 1))\n",
    "        \n",
    "        return prime_decomp\n",
    "    \n",
    "    if prime_list:\n",
    "        for p in prime_list:\n",
    "            a = 0\n",
    "            while n % p == 0:\n",
    "                n = n / p\n",
    "                a += 1\n",
    "            if a > 0:\n",
    "                prime_decomp.append((p, a))\n",
    "                \n",
    "    for p in range(2, n):\n",
    "        if n == 1:\n",
    "            \n",
    "            return prime_decomp\n",
    "        \n",
    "        if is_prime(p):\n",
    "            a = 0\n",
    "            while n % p == 0:\n",
    "                n = n / p\n",
    "                a += 1\n",
    "            if a > 0:\n",
    "                prime_decomp.append((p, a))\n",
    "                \n",
    "    return prime_decomp"
   ]
  },
  {
   "cell_type": "code",
   "execution_count": 69,
   "id": "e59143f5",
   "metadata": {},
   "outputs": [],
   "source": [
    "def jacobi(a, n, verbose=False):\n",
    "    \"\"\"\n",
    "    Calculate the Jacobi symbol of a on n\n",
    "    \n",
    "    Since this involves calculating a^((n-1)/2) mod n\n",
    "        which can be inefficient for large a, n, we \n",
    "        include some steps for simplification prior to \n",
    "        computation\n",
    "    \"\"\"\n",
    "    if verbose:\n",
    "        print(f'computing jacobi({a},{n})')\n",
    "    if n % 2 == 1:\n",
    "        if verbose:\n",
    "            print('n odd')\n",
    "        if a == 2:\n",
    "            if verbose:\n",
    "                print('a = 2')\n",
    "            if np.abs(n % 8) == 1:\n",
    "                return 1\n",
    "            if np.abs(n % 8) == 3:\n",
    "                return -1\n",
    "        if a > n:\n",
    "            if verbose:\n",
    "                print('a greater than n, reducing a modulo n')\n",
    "            # If a > n then \n",
    "            #   jacobi(a,n) = jacobi(a%n, n)\n",
    "            a = a % n\n",
    "            return jacobi(a, n, verbose)\n",
    "        \n",
    "        if a % 2 == 1:\n",
    "            if verbose:\n",
    "                print('a odd')\n",
    "            # If a is also odd then\n",
    "            #  jacobi(a,n)=-1*jacobi(n, a) if\n",
    "            #  a,n = 3 mod 4, and \n",
    "            #  jacobi(a,n)=jacobi(n, a) otherwise\n",
    "            \n",
    "            # Since we have passed the previous if\n",
    "            #  statement, we have a <= n\n",
    "            if a % 4 == 3 and n % 4 == 3:\n",
    "                return -1 * jacobi(n, a, verbose)\n",
    "            else:\n",
    "                return jacobi(n, a, verbose)\n",
    "    \n",
    "    pd = prime_factorization(a)\n",
    "    \n",
    "    jacobi_result = int(np.prod([jacobi(x[0], n) ** x[1] for x in pd]))\n",
    "    \n",
    "    return jacobi_result"
   ]
  },
  {
   "cell_type": "code",
   "execution_count": 70,
   "id": "098ba805",
   "metadata": {},
   "outputs": [],
   "source": [
    "def solovay_strassen(n):\n",
    "    \"\"\"\n",
    "    Solovay-Strassen primality test\n",
    "    Input:\n",
    "        n - integer to be tested for primality\n",
    "    Output:\n",
    "        is_prime - True if n is prime, False otherwise\n",
    "    \"\"\"\n",
    "    is_prime = False\n",
    "    \n",
    "    a = np.random.randint(1, n)\n",
    "    x = jacobi(a, n)\n",
    "    \n",
    "    if x == 0:\n",
    "        return is_prime\n",
    "    \n",
    "    y = a ** ((n - 1) / 2) % n\n",
    "    if  x % n == y:\n",
    "        is_prime = True\n",
    "    \n",
    "    return is_prime"
   ]
  },
  {
   "cell_type": "code",
   "execution_count": 71,
   "id": "bedfdb26",
   "metadata": {},
   "outputs": [
    {
     "data": {
      "text/plain": [
       "-1"
      ]
     },
     "execution_count": 71,
     "metadata": {},
     "output_type": "execute_result"
    }
   ],
   "source": [
    "jacobi(7411, 9283)"
   ]
  },
  {
   "cell_type": "code",
   "execution_count": null,
   "id": "c5e26788",
   "metadata": {},
   "outputs": [],
   "source": []
  }
 ],
 "metadata": {
  "kernelspec": {
   "display_name": "Python 3",
   "language": "python",
   "name": "python3"
  },
  "language_info": {
   "codemirror_mode": {
    "name": "ipython",
    "version": 3
   },
   "file_extension": ".py",
   "mimetype": "text/x-python",
   "name": "python",
   "nbconvert_exporter": "python",
   "pygments_lexer": "ipython3",
   "version": "3.8.3"
  }
 },
 "nbformat": 4,
 "nbformat_minor": 5
}
