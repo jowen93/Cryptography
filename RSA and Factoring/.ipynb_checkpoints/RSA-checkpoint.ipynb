{
 "cells": [
  {
   "cell_type": "markdown",
   "id": "af69d9f1",
   "metadata": {},
   "source": [
    "# RSA\n",
    "\n",
    "## The RSA Cryptosystem\n",
    "\n",
    "Let $n=pq$, where $p$ and $q$ are primes. Let $\\mathcal{P}=\\mathcal{C}=\\mathbb{Z}_n$, and define\n",
    "\n",
    "<center>$\\mathcal{K}=\\{(n,p,q,a,b):ab\\equiv 1\\mod{\\phi(n)}\\}$</center>\n",
    "\n",
    "For $K=(n,p,q,a,b)$ define\n",
    "\n",
    "<center>$e_K(x)=x^b\\mod{n}$</center>\n",
    "\n",
    "and\n",
    "\n",
    "<center>$d_K(y)=y^a\\mod{n}$</center>\n",
    "\n",
    "($x,y\\in\\mathbb{Z}_n$). The values $n$ and $b$ comprise the public key, and the values $p$, $q$, and $a$ form the private key."
   ]
  },
  {
   "cell_type": "code",
   "execution_count": 2,
   "id": "56a67368",
   "metadata": {},
   "outputs": [],
   "source": [
    "import math\n",
    "import random"
   ]
  },
  {
   "cell_type": "code",
   "execution_count": 5,
   "id": "8fc204c5",
   "metadata": {},
   "outputs": [],
   "source": [
    "def EEA(a, b):\n",
    "    \"\"\"\n",
    "    Extended Euclidean algorithm to compute inverses in finte groups\n",
    "    Input:\n",
    "        a - order of the group, must be greater than 1\n",
    "        b - integer. 1 < p < n\n",
    "    Output:\n",
    "        gcd - greatest common divisor of \n",
    "        y - integer\n",
    "        x - integer\n",
    "    \"\"\"\n",
    "    \n",
    "    # via https://www.techiedelight.com/extended-euclidean-algorithm-implementation/\n",
    "    \n",
    "    if a == 0:\n",
    "        return b, 0, 1\n",
    "    else:\n",
    "        gcd, x, y = EEA(b % a, a)\n",
    "        return gcd, y - (b // a) * x, x"
   ]
  },
  {
   "cell_type": "code",
   "execution_count": 6,
   "id": "14db46d3",
   "metadata": {},
   "outputs": [
    {
     "data": {
      "text/plain": [
       "(1, 7, -3)"
      ]
     },
     "execution_count": 6,
     "metadata": {},
     "output_type": "execute_result"
    }
   ],
   "source": [
    "EEA(7, 16)"
   ]
  },
  {
   "cell_type": "markdown",
   "id": "a383a26b",
   "metadata": {},
   "source": [
    "From this, we see that $7(7)+16(-3)=1$ and hence that $7\\cdot7\\equiv1\\mod{16}$. Therefore, the multiplicative inverse of $7$ in $\\mathbb{Z}_{16}$ is itself.\n",
    "\n",
    "Note that $7$ only <i>has</i> an inverse in $\\mathbb{Z}_{16}$ because the gcd (the first ouput of the algorithm) is equal to 1."
   ]
  },
  {
   "cell_type": "code",
   "execution_count": 15,
   "id": "cc87e973",
   "metadata": {},
   "outputs": [],
   "source": [
    "class RSA:\n",
    "    def __init__(self, p, q):\n",
    "        \"\"\"\n",
    "        Instantiate this class with large primes p and q\n",
    "            to create an instance of the RSA cryptosystem\n",
    "        \"\"\"\n",
    "        # For now we will assume that p and q are prime without verification\n",
    "        self.p = p\n",
    "        self.q = q\n",
    "        \n",
    "        # Calculate n and phi(n)\n",
    "        self.n = p * q\n",
    "        self.phi_n = (p - 1) * (q - 1)\n",
    "        \n",
    "        while True:\n",
    "            b = random.randint(2, self.phi_n)\n",
    "            if math.gcd(b, self.phi_n) == 1:\n",
    "                self.b = b\n",
    "                break\n",
    "        \n",
    "        # Use EEA to compute the inverse of b mod phi_n\n",
    "        g, a, y = EEA(b, self.phi_n)\n",
    "        self.a = a\n",
    "        \n",
    "        self.public_key = (self.n, self.b)\n",
    "        self.private_key = (self.p, self.q, self.a)\n",
    "    \n",
    "    def encrypt(self, x):\n",
    "        \"\"\"\n",
    "        Function to encrypt a value using the key generated in __init__\n",
    "        Input:\n",
    "            x - value to encrypt\n",
    "        Output:\n",
    "            ek_x - encryption of x\n",
    "        \"\"\"\n",
    "        ek_x = (x ** self.b) % self.n\n",
    "        \n",
    "        return ek_x\n",
    "    \n",
    "    def decrypt(self, y):\n",
    "        \"\"\"\n",
    "        Function to decrypt a value using the key generated in __init__\n",
    "        Input:\n",
    "            y - value to decrypt\n",
    "        Output:\n",
    "            dk_y - decryption of y\n",
    "        \"\"\"\n",
    "        dk_y = (y ** self.a) % self.n\n",
    "        \n",
    "        return dk_y"
   ]
  },
  {
   "cell_type": "code",
   "execution_count": 16,
   "id": "2eb54186",
   "metadata": {},
   "outputs": [],
   "source": [
    "r = RSA(17, 13)"
   ]
  },
  {
   "cell_type": "code",
   "execution_count": 17,
   "id": "bd7669c5",
   "metadata": {},
   "outputs": [
    {
     "data": {
      "text/plain": [
       "59"
      ]
     },
     "execution_count": 17,
     "metadata": {},
     "output_type": "execute_result"
    }
   ],
   "source": [
    "r.encrypt(2)"
   ]
  },
  {
   "cell_type": "code",
   "execution_count": 18,
   "id": "b2a65be9",
   "metadata": {},
   "outputs": [
    {
     "data": {
      "text/plain": [
       "2"
      ]
     },
     "execution_count": 18,
     "metadata": {},
     "output_type": "execute_result"
    }
   ],
   "source": [
    "r.decrypt(59)"
   ]
  },
  {
   "cell_type": "code",
   "execution_count": 19,
   "id": "59fe11e9",
   "metadata": {},
   "outputs": [
    {
     "name": "stdout",
     "output_type": "stream",
     "text": [
      "61\n",
      "Encryption of value: 3\n",
      "Decryption of value: 61\n",
      "\n",
      "60\n",
      "Encryption of value: 83\n",
      "Decryption of value: 60\n",
      "\n",
      "25\n",
      "Encryption of value: 155\n",
      "Decryption of value: 25\n",
      "\n",
      "12\n",
      "Encryption of value: 142\n",
      "Decryption of value: 12\n",
      "\n",
      "94\n",
      "Encryption of value: 100\n",
      "Decryption of value: 94\n",
      "\n",
      "75\n",
      "Encryption of value: 82\n",
      "Decryption of value: 75\n",
      "\n",
      "40\n",
      "Encryption of value: 209\n",
      "Decryption of value: 40\n",
      "\n",
      "6\n",
      "Encryption of value: 141\n",
      "Decryption of value: 6\n",
      "\n",
      "72\n",
      "Encryption of value: 132\n",
      "Decryption of value: 72\n",
      "\n",
      "82\n",
      "Encryption of value: 10\n",
      "Decryption of value: 82\n",
      "\n"
     ]
    }
   ],
   "source": [
    "for i in range(10):\n",
    "    val = random.randint(2, 100)\n",
    "    print(val)\n",
    "    encryption = r.encrypt(val)\n",
    "    print(f'Encryption of value: {encryption}')\n",
    "    decryption = r.decrypt(encryption)\n",
    "    print(f'Decryption of value: {decryption}')\n",
    "    print()"
   ]
  },
  {
   "cell_type": "code",
   "execution_count": null,
   "id": "5b07a139",
   "metadata": {},
   "outputs": [],
   "source": []
  }
 ],
 "metadata": {
  "kernelspec": {
   "display_name": "Python 3",
   "language": "python",
   "name": "python3"
  },
  "language_info": {
   "codemirror_mode": {
    "name": "ipython",
    "version": 3
   },
   "file_extension": ".py",
   "mimetype": "text/x-python",
   "name": "python",
   "nbconvert_exporter": "python",
   "pygments_lexer": "ipython3",
   "version": "3.8.3"
  }
 },
 "nbformat": 4,
 "nbformat_minor": 5
}
