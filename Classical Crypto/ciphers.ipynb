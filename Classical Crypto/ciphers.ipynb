{
 "cells": [
  {
   "cell_type": "code",
   "execution_count": 135,
   "id": "23a7308e",
   "metadata": {},
   "outputs": [],
   "source": [
    "import math\n",
    "import random\n",
    "import pandas as pd\n",
    "import numpy as np\n",
    "\n",
    "# visualization\n",
    "import matplotlib.pyplot as plt"
   ]
  },
  {
   "cell_type": "markdown",
   "id": "efdc1f34",
   "metadata": {},
   "source": [
    "## Shift Cipher\n",
    "\n",
    "Let $\\mathcal{P}=\\mathcal{C}=\\mathcal{K}=\\mathbb{Z}_{26}$. For $0\\leq K\\leq 25$, define\n",
    "\n",
    "<center>$e_K(x)=(x+K)\\mod{26}$</center>\n",
    "\n",
    "and\n",
    "\n",
    "<center>$d_K(y)=(y-K)\\mod{26}$</center>\n",
    "\n",
    "($x,y\\in\\mathbb{Z}_{26}$)"
   ]
  },
  {
   "cell_type": "code",
   "execution_count": 74,
   "id": "70b20a1c",
   "metadata": {},
   "outputs": [],
   "source": [
    "class shift_cipher:\n",
    "    def __init__(self, K):\n",
    "        if K not in range(0, 25):\n",
    "            raise ValueError(\"Value must be an integer from 0 to 25 inclusive.\")\n",
    "        self.K = K\n",
    "        \n",
    "    def encrypt_char(self, x):\n",
    "        \"\"\"\n",
    "        Encrypts one single character x with the key\n",
    "        Input: \n",
    "            x - plaintext character\n",
    "        Output:\n",
    "            y - encrypted character\n",
    "        \"\"\"\n",
    "        if x not in range(0, 25):\n",
    "            raise ValueError(\"Value must be an integer from 0 to 25 inclusive.\")\n",
    "        y = (x + self.K) % 26\n",
    "\n",
    "        return y\n",
    "    \n",
    "    def decrypt_char(self, y):\n",
    "        \"\"\"\n",
    "        Decrypts one character y with the key\n",
    "        Input:\n",
    "            y - ciphertext character\n",
    "        Output:\n",
    "            x - decrypted character\n",
    "        \"\"\"\n",
    "        if y not in range(0, 25):\n",
    "            raise ValueError(\"Value must be an integer from 0 to 25 inclusive.\")\n",
    "        x = (y - self.K) % 26\n",
    "        \n",
    "        return x\n",
    "    \n",
    "    def text_to_int_list(self, text):\n",
    "        \"\"\"\n",
    "        Converts an inputted text to a list of integers\n",
    "        Can be used for ciphertext or plaintext\n",
    "        Input:\n",
    "            text - string of characters to be encrypted\n",
    "        Output:\n",
    "            int_list - list of integers encoding the text\n",
    "        \"\"\"\n",
    "        int_list = [ord(x) - 97 for x in text.lower()]\n",
    "        \n",
    "        return int_list\n",
    "    \n",
    "    def encrypt_int_list(self, int_list):\n",
    "        \"\"\"\n",
    "        Converts list of integers to list of encrypted integers\n",
    "        Input:\n",
    "            int_list - list of integers representing plaintext\n",
    "        Output:\n",
    "            encrypted_int_list - list of integers representing ciphertext\n",
    "        \"\"\"\n",
    "        encrypted_int_list = [self.encrypt_char(x) if x in range(0,25) else x for x in int_list]\n",
    "        \n",
    "        return encrypted_int_list\n",
    "    \n",
    "    def decrypt_int_list(self, int_list):\n",
    "        \"\"\"\n",
    "        Converts list of integers to list of decrypted integers\n",
    "        Input:\n",
    "            int_list - list of integers representing plaintext\n",
    "        Output:\n",
    "            decrypted_int_list - list of integers representing plaintext\n",
    "        \"\"\"\n",
    "        decrypted_int_list = [self.decrypt_char(x) if x in range(0,25) else x for x in int_list]\n",
    "        \n",
    "        return decrypted_int_list      \n",
    "\n",
    "    def int_list_to_text(self, int_list):\n",
    "        \"\"\"\n",
    "        Converts list of integers to text\n",
    "        Can be used to create ciphertext or plaintext\n",
    "        Input:\n",
    "            int_list - list of integers to be decoded\n",
    "        Output:\n",
    "            text - string of text decoded from integers\n",
    "            \n",
    "        \"\"\"\n",
    "        char_list = [chr(x + 97) for x in int_list]\n",
    "        text = ''.join(char_list)\n",
    "        \n",
    "        return text\n",
    "    \n",
    "    def encrypt_plaintext(self, plaintext):\n",
    "        \"\"\"\n",
    "        Use text_to_int_list, encrypt_int_list,\n",
    "            and int_list_to_text to encrypt a string\n",
    "        Input:\n",
    "            plaintext - string of characters to be encrypted\n",
    "        Output:\n",
    "            ciphertext - string of encrypted characters\n",
    "        \"\"\"\n",
    "        int_list = self.text_to_int_list(plaintext)\n",
    "        encrypted_int_list = self.encrypt_int_list(int_list)\n",
    "        ciphertext = self.int_list_to_text(encrypted_int_list)\n",
    "        \n",
    "        return ciphertext\n",
    "    \n",
    "    def decrypt_ciphertext(self, ciphertext):\n",
    "        \"\"\"\n",
    "        Use text_to_int_list, decrypt_int_list,\n",
    "            and encrypted_int_list_to_ciphertext to encrypt a string\n",
    "        Input:\n",
    "            ciphertext - string of characters to be decrypted\n",
    "        Output:\n",
    "            decrypted_text - string of decrypted characters\n",
    "        \"\"\"\n",
    "        int_list = self.text_to_int_list(ciphertext)\n",
    "        decrypted_int_list = self.decrypt_int_list(int_list)\n",
    "        decrypted_text = self.int_list_to_text(decrypted_int_list)\n",
    "        \n",
    "        return decrypted_text"
   ]
  },
  {
   "cell_type": "code",
   "execution_count": 75,
   "id": "a39eb0e7",
   "metadata": {},
   "outputs": [
    {
     "name": "stdout",
     "output_type": "stream",
     "text": [
      "mjqqt, btwqi!\n"
     ]
    }
   ],
   "source": [
    "# Create an instantiation of the shift_cipher class with K = 5\n",
    "s = shift_cipher(5)\n",
    "\n",
    "# Now create a ciphertext from a plaintext\n",
    "plaintext = 'Hello, world!'\n",
    "ciphertext = s.encrypt_plaintext(plaintext)\n",
    "print(ciphertext)"
   ]
  },
  {
   "cell_type": "code",
   "execution_count": 76,
   "id": "02fde77d",
   "metadata": {},
   "outputs": [
    {
     "name": "stdout",
     "output_type": "stream",
     "text": [
      "hello, world!\n"
     ]
    }
   ],
   "source": [
    "# Now we can use the decrypt_ciphertext function \n",
    "# to decrypt the ciphertext\n",
    "decrypted_text = s.decrypt_ciphertext(ciphertext)\n",
    "print(decrypted_text)"
   ]
  },
  {
   "cell_type": "markdown",
   "id": "7a9a237f",
   "metadata": {},
   "source": [
    "### Analysis of shift cipher - frequency analysis\n",
    "\n",
    "We will read a text file in and encrypt it, before doing a frequency analysis on the resulting ciphertext, to see if we can discern the key. For the frequency analysis, we will be looking for a key which maps the most common letters in our ciphertext to the most common letters in the English language (e, t, a, i, o, n, s, h, and r)."
   ]
  },
  {
   "cell_type": "code",
   "execution_count": 79,
   "id": "0454ddda",
   "metadata": {},
   "outputs": [
    {
     "name": "stdout",
     "output_type": "stream",
     "text": [
      "Thousands of people gathered for the Pride march in South Africa’s largest city Johannesburg on Saturday despite a warning from the US embassy of a possible terror attack.\n",
      "\n",
      "The event took place under heavy security in the upmarket district of Sandton, identified by the US embassy as a potential target.\n",
      "\n",
      "South African authorities had assured organisers it was safe to proceed with the march, returning after a two-year break because of the coronavirus pandemic.\n",
      "\n",
      "The US warning angered Pretoria. President Cyril Ramaphosa called it “unfortunate” and said it was causing “panic” in the country.\n",
      "\n",
      "“We are always fighting for visibility and we are always in danger, so me hearing of the terrorist attack [warning], it didn’t even bother me,” said Anold Mulaisho, an LGBTQ activist, told AFP. “Either way, if I die my family already rejected me anyway, so no one is gonna get to miss me.”\n",
      "\n",
      "State department spokesperson Ned Price on Friday praised security efforts in South Africa and Nigeria, where the United States issued a separate security alert that led to the evacuation of families of US government personnel.\n",
      "\n",
      "“We deeply appreciate the efforts that they make to protect their interests and in turn our interests,” Price told reporters.\n",
      "\n",
      "South Africa has some of the most progressive laws in the world when it comes to LGBTQ rights. It was the first country in Africa to legalise gay marriage. But in practice, stigmas still persist.\n",
      "\n",
      "Also attending the 33rd Pride march on Saturday was medical doctor Lethuxolo Shange, who said: “Queer people … are killed every single day. We still have a very long way [to go], the law is there, but the practice and the mindset in our community hasn’t changed. We are still working on that, and hoping for a better future.”\n"
     ]
    }
   ],
   "source": [
    "plaintext = ''\n",
    "with open('Guardian_story.txt') as f:\n",
    "    for line in f:\n",
    "        plaintext = plaintext + line\n",
    "print(plaintext)"
   ]
  },
  {
   "cell_type": "code",
   "execution_count": 86,
   "id": "203a705f",
   "metadata": {},
   "outputs": [],
   "source": [
    "# Set a random key, k, and instantiate a shift_cipher with that key\n",
    "k = random.randint(0, 25)\n",
    "s = shift_cipher(k)"
   ]
  },
  {
   "cell_type": "code",
   "execution_count": 87,
   "id": "7ad89433",
   "metadata": {},
   "outputs": [
    {
     "name": "stdout",
     "output_type": "stream",
     "text": [
      "cqxdbjwmb xo ynxyun pjcqnanm oxa cqn yarmn vjalq rw bxdcq joarlj’b ujapnbc lrch sxqjwwnbkdap xw bjcdamjh mnbyrcn j fjawrwp oaxv cqn db nvkjbbh xo j yxbbrkun cnaaxa jccjlt.\n",
      "\n",
      "cqn nenwc cxxt yujln dwmna qnjeh bnldarch rw cqn dyvjatnc mrbcarlc xo bjwmcxw, rmnwcrornm kh cqn db nvkjbbh jb j yxcnwcrju cjapnc.\n",
      "\n",
      "bxdcq joarljw jdcqxarcrnb qjm jbbdanm xapjwrbnab rc fjb bjon cx yaxlnnm frcq cqn vjalq, ancdawrwp jocna j cfx-hnja kanjt knljdbn xo cqn lxaxwjeradb yjwmnvrl.\n",
      "\n",
      "cqn db fjawrwp jwpnanm yancxarj. yanbrmnwc lharu ajvjyqxbj ljuunm rc “dwoxacdwjcn” jwm bjrm rc fjb ljdbrwp “yjwrl” rw cqn lxdwcah.\n",
      "\n",
      "“fn jan jufjhb orpqcrwp oxa erbrkrurch jwm fn jan jufjhb rw mjwpna, bx vn qnjarwp xo cqn cnaaxarbc jccjlt [fjawrwp], rc mrmw’c nenw kxcqna vn,” bjrm jwxum vdujrbqx, jw upkcz jlcrerbc, cxum joy. “nrcqna fjh, ro r mrn vh ojvruh juanjmh ansnlcnm vn jwhfjh, bx wx xwn rb pxwwj pnc cx vrbb vn.”\n",
      "\n",
      "bcjcn mnyjacvnwc byxtnbynabxw wnm yarln xw oarmjh yajrbnm bnldarch nooxacb rw bxdcq joarlj jwm wrpnarj, fqnan cqn dwrcnm bcjcnb rbbdnm j bnyjajcn bnldarch junac cqjc unm cx cqn nejldjcrxw xo ojvrurnb xo db pxenawvnwc ynabxwwnu.\n",
      "\n",
      "“fn mnnyuh jyyanlrjcn cqn nooxacb cqjc cqnh vjtn cx yaxcnlc cqnra rwcnanbcb jwm rw cdaw xda rwcnanbcb,” yarln cxum anyxacnab.\n",
      "\n",
      "bxdcq joarlj qjb bxvn xo cqn vxbc yaxpanbbren ujfb rw cqn fxaum fqnw rc lxvnb cx upkcz arpqcb. rc fjb cqn orabc lxdwcah rw joarlj cx unpjurbn pjh vjaarjpn. kdc rw yajlcrln, bcrpvjb bcruu ynabrbc.\n",
      "\n",
      "jubx jccnwmrwp cqn 33am yarmn vjalq xw bjcdamjh fjb vnmrlju mxlcxa uncqdgxux bqjwpn, fqx bjrm: “zdnna ynxyun … jan truunm nenah brwpun mjh. fn bcruu qjen j enah uxwp fjh [cx px], cqn ujf rb cqnan, kdc cqn yajlcrln jwm cqn vrwmbnc rw xda lxvvdwrch qjbw’c lqjwpnm. fn jan bcruu fxatrwp xw cqjc, jwm qxyrwp oxa j knccna odcdan.”\n"
     ]
    }
   ],
   "source": [
    "# Let's encrypt the plaintext and see what we get from the ciphertext\n",
    "ciphertext = s.encrypt_plaintext(plaintext)\n",
    "print(ciphertext)"
   ]
  },
  {
   "cell_type": "code",
   "execution_count": 125,
   "id": "14699f90",
   "metadata": {},
   "outputs": [
    {
     "data": {
      "image/png": "[encoded data removed]",
      "text/plain": [
       "<Figure size 432x288 with 1 Axes>"
      ]
     },
     "metadata": {
      "needs_background": "light"
     },
     "output_type": "display_data"
    }
   ],
   "source": [
    "# Frequency analysis time!\n",
    "characters = np.array([x for x in ciphertext if ord(x) in range(97, 123)])\n",
    "chars, counts = np.unique(characters, return_counts=True)\n",
    "freq_dict = {char: count for (char, count) in zip(chars, counts)}\n",
    "fig = plt.figure()\n",
    "plt.bar(x=chars, height=counts)\n",
    "plt.title('Frequency of characters in the ciphertext')\n",
    "plt.show()"
   ]
  },
  {
   "cell_type": "code",
   "execution_count": 139,
   "id": "18a88a21",
   "metadata": {},
   "outputs": [],
   "source": [
    "df = pd.DataFrame({\n",
    "    'character': chars,\n",
    "    'frequency': counts\n",
    "}).sort_values(by='frequency', ascending=False).reset_index(drop=True)"
   ]
  },
  {
   "cell_type": "code",
   "execution_count": 140,
   "id": "0241cf40",
   "metadata": {},
   "outputs": [
    {
     "data": {
      "text/html": [
       "<div>\n",
       "<style scoped>\n",
       "    .dataframe tbody tr th:only-of-type {\n",
       "        vertical-align: middle;\n",
       "    }\n",
       "\n",
       "    .dataframe tbody tr th {\n",
       "        vertical-align: top;\n",
       "    }\n",
       "\n",
       "    .dataframe thead th {\n",
       "        text-align: right;\n",
       "    }\n",
       "</style>\n",
       "<table border=\"1\" class=\"dataframe\">\n",
       "  <thead>\n",
       "    <tr style=\"text-align: right;\">\n",
       "      <th></th>\n",
       "      <th>character</th>\n",
       "      <th>frequency</th>\n",
       "    </tr>\n",
       "  </thead>\n",
       "  <tbody>\n",
       "    <tr>\n",
       "      <th>0</th>\n",
       "      <td>n</td>\n",
       "      <td>168</td>\n",
       "    </tr>\n",
       "    <tr>\n",
       "      <th>1</th>\n",
       "      <td>c</td>\n",
       "      <td>143</td>\n",
       "    </tr>\n",
       "    <tr>\n",
       "      <th>2</th>\n",
       "      <td>j</td>\n",
       "      <td>136</td>\n",
       "    </tr>\n",
       "    <tr>\n",
       "      <th>3</th>\n",
       "      <td>a</td>\n",
       "      <td>110</td>\n",
       "    </tr>\n",
       "    <tr>\n",
       "      <th>4</th>\n",
       "      <td>r</td>\n",
       "      <td>108</td>\n",
       "    </tr>\n",
       "  </tbody>\n",
       "</table>\n",
       "</div>"
      ],
      "text/plain": [
       "  character  frequency\n",
       "0         n        168\n",
       "1         c        143\n",
       "2         j        136\n",
       "3         a        110\n",
       "4         r        108"
      ]
     },
     "execution_count": 140,
     "metadata": {},
     "output_type": "execute_result"
    }
   ],
   "source": [
    "df.head(5)"
   ]
  },
  {
   "cell_type": "markdown",
   "id": "a2cfae8a",
   "metadata": {},
   "source": [
    "'n' is our most common character. We can look at potential keys by seeing what the key would be in order to map our five most common characters to 'n'."
   ]
  },
  {
   "cell_type": "code",
   "execution_count": 121,
   "id": "3b1d8ea6",
   "metadata": {},
   "outputs": [
    {
     "name": "stdout",
     "output_type": "stream",
     "text": [
      "Potential keys are: 9, 20, 13, 5, 25\n"
     ]
    }
   ],
   "source": [
    "common_chars = ['e', 't', 'a', 'i', 'o']\n",
    "n_ord = ord('n')\n",
    "potential_keys = [(n_ord - ord(x)) % 26 for x in common_chars]\n",
    "print(f'Potential keys are: {\", \".join([str(k) for k in potential_keys])}')"
   ]
  },
  {
   "cell_type": "markdown",
   "id": "a0dad174",
   "metadata": {},
   "source": [
    "Now we will make a matrix of our most common characters and their decrypted values under the potential keys"
   ]
  },
  {
   "cell_type": "code",
   "execution_count": 143,
   "id": "8adb219c",
   "metadata": {},
   "outputs": [],
   "source": [
    "def decrypt_char(y, K):\n",
    "    int_rep = ord(y) - 97\n",
    "    x = (int_rep - K) % 26\n",
    "    decrypted_char = chr(x + 97)\n",
    "\n",
    "    return decrypted_char\n",
    "\n",
    "\n",
    "for K in potential_keys:\n",
    "    df[f'key_{K}'] = df.character.apply(lambda x: decrypt_char(x, K))"
   ]
  },
  {
   "cell_type": "code",
   "execution_count": 144,
   "id": "0a2e15df",
   "metadata": {},
   "outputs": [
    {
     "data": {
      "text/html": [
       "<div>\n",
       "<style scoped>\n",
       "    .dataframe tbody tr th:only-of-type {\n",
       "        vertical-align: middle;\n",
       "    }\n",
       "\n",
       "    .dataframe tbody tr th {\n",
       "        vertical-align: top;\n",
       "    }\n",
       "\n",
       "    .dataframe thead th {\n",
       "        text-align: right;\n",
       "    }\n",
       "</style>\n",
       "<table border=\"1\" class=\"dataframe\">\n",
       "  <thead>\n",
       "    <tr style=\"text-align: right;\">\n",
       "      <th></th>\n",
       "      <th>character</th>\n",
       "      <th>frequency</th>\n",
       "      <th>key_9</th>\n",
       "      <th>key_20</th>\n",
       "      <th>key_13</th>\n",
       "      <th>key_5</th>\n",
       "      <th>key_25</th>\n",
       "    </tr>\n",
       "  </thead>\n",
       "  <tbody>\n",
       "    <tr>\n",
       "      <th>0</th>\n",
       "      <td>n</td>\n",
       "      <td>168</td>\n",
       "      <td>e</td>\n",
       "      <td>t</td>\n",
       "      <td>a</td>\n",
       "      <td>i</td>\n",
       "      <td>o</td>\n",
       "    </tr>\n",
       "    <tr>\n",
       "      <th>1</th>\n",
       "      <td>c</td>\n",
       "      <td>143</td>\n",
       "      <td>t</td>\n",
       "      <td>i</td>\n",
       "      <td>p</td>\n",
       "      <td>x</td>\n",
       "      <td>d</td>\n",
       "    </tr>\n",
       "    <tr>\n",
       "      <th>2</th>\n",
       "      <td>j</td>\n",
       "      <td>136</td>\n",
       "      <td>a</td>\n",
       "      <td>p</td>\n",
       "      <td>w</td>\n",
       "      <td>e</td>\n",
       "      <td>k</td>\n",
       "    </tr>\n",
       "    <tr>\n",
       "      <th>3</th>\n",
       "      <td>a</td>\n",
       "      <td>110</td>\n",
       "      <td>r</td>\n",
       "      <td>g</td>\n",
       "      <td>n</td>\n",
       "      <td>v</td>\n",
       "      <td>b</td>\n",
       "    </tr>\n",
       "    <tr>\n",
       "      <th>4</th>\n",
       "      <td>r</td>\n",
       "      <td>108</td>\n",
       "      <td>i</td>\n",
       "      <td>x</td>\n",
       "      <td>e</td>\n",
       "      <td>m</td>\n",
       "      <td>s</td>\n",
       "    </tr>\n",
       "  </tbody>\n",
       "</table>\n",
       "</div>"
      ],
      "text/plain": [
       "  character  frequency key_9 key_20 key_13 key_5 key_25\n",
       "0         n        168     e      t      a     i      o\n",
       "1         c        143     t      i      p     x      d\n",
       "2         j        136     a      p      w     e      k\n",
       "3         a        110     r      g      n     v      b\n",
       "4         r        108     i      x      e     m      s"
      ]
     },
     "execution_count": 144,
     "metadata": {},
     "output_type": "execute_result"
    }
   ],
   "source": [
    "df.head()"
   ]
  },
  {
   "cell_type": "markdown",
   "id": "52176ff2",
   "metadata": {},
   "source": [
    "Based on this limited frequency analysis, it seems like the key is probably 9, so let's instantiate a shift_cipher object with K=9, and decrypt the text!"
   ]
  },
  {
   "cell_type": "code",
   "execution_count": 145,
   "id": "bcfe2fe1",
   "metadata": {},
   "outputs": [
    {
     "name": "stdout",
     "output_type": "stream",
     "text": [
      "thousands of people gathered for the pride march in south africa’s largest city johannesburg on saturday despite a warning from the us embassy of a possible terror attack.\n",
      "\n",
      "the event took place under heavy security in the upmarket district of sandton, identified by the us embassy as a potential target.\n",
      "\n",
      "south african authorities had assured organisers it was safe to proceed with the march, returning after a two-year break because of the coronavirus pandemic.\n",
      "\n",
      "the us warning angered pretoria. president cyril ramaphosa called it “unfortunate” and said it was causing “panic” in the country.\n",
      "\n",
      "“we are always fighting for visibility and we are always in danger, so me hearing of the terrorist attack [warning], it didn’t even bother me,” said anold mulaisho, an lgbtz activist, told afp. “either way, if i die my family already rejected me anyway, so no one is gonna get to miss me.”\n",
      "\n",
      "state department spokesperson ned price on friday praised security efforts in south africa and nigeria, where the united states issued a separate security alert that led to the evacuation of families of us government personnel.\n",
      "\n",
      "“we deeply appreciate the efforts that they make to protect their interests and in turn our interests,” price told reporters.\n",
      "\n",
      "south africa has some of the most progressive laws in the world when it comes to lgbtz rights. it was the first country in africa to legalise gay marriage. but in practice, stigmas still persist.\n",
      "\n",
      "also attending the 33rd pride march on saturday was medical doctor lethuxolo shange, who said: “zueer people … are killed every single day. we still have a very long way [to go], the law is there, but the practice and the mindset in our community hasn’t changed. we are still working on that, and hoping for a better future.”\n"
     ]
    }
   ],
   "source": [
    "K = 9\n",
    "s = shift_cipher(9)\n",
    "decrypted_text = s.decrypt_ciphertext(ciphertext)\n",
    "print(decrypted_text)"
   ]
  },
  {
   "cell_type": "markdown",
   "id": "37b327de",
   "metadata": {},
   "source": [
    "## Affine Cipher\n",
    "\n",
    "<b>Theorem:</b> The congruence $ax\\equiv b\\mod{m}$ has a unique solution $x\\in\\mathbb{Z}_{m}$ for every $b\\in\\mathbb{Z}_{m}$ if and only if $\\gcd(a,m)=1$.\n",
    "\n",
    "Let $\\mathcal{P}=\\mathcal{C}=\\mathbb{Z}_{26}$ and let\n",
    "\n",
    "<center>$\\mathcal{K}=\\{(a,b)\\in\\mathbb{Z}_{26}\\times\\mathbb{Z}_{26}:\\gcd(a,26)=1\\}$</center>\n",
    "\n",
    "For $K=(a,b)\\in\\mathcal{K}$, define\n",
    "\n",
    "<center>$e_K(x)=(ax+b)\\mod{26}$</center>\n",
    "\n",
    "and\n",
    "\n",
    "<center>$d_K(x)=a^{-1}(y-b)\\mod{26}$</center>\n",
    "\n",
    "($x,y\\in\\mathbb{Z}_{26}$)."
   ]
  },
  {
   "cell_type": "code",
   "execution_count": 149,
   "id": "f45f0653",
   "metadata": {},
   "outputs": [],
   "source": [
    "class affine_cipher:\n",
    "    def __init__(self, a, b):\n",
    "        if a not in range(0, 25) or b not in range(0, 25):\n",
    "            raise ValueError(\"a and b must both be integers from 0 to 25 inclusive\")\n",
    "        \n",
    "        if math.gcd(26, a) != 1:\n",
    "            raise ValueError(\"a must be coprime with 26\")\n",
    "        \n",
    "        self.a = a\n",
    "        self.b = b"
   ]
  },
  {
   "cell_type": "code",
   "execution_count": null,
   "id": "71b2f94f",
   "metadata": {},
   "outputs": [],
   "source": []
  },
  {
   "cell_type": "markdown",
   "id": "93af81a4",
   "metadata": {},
   "source": [
    "## Extended Euclidean Algorithm\n",
    "\n",
    "We want to find the inverse of $p$ modulo $q$. To do so, we can use the Extended Euclidean Algorithm (EEA), to find values $x$ and $y$ such that $px+qy=1$. Then $px=1-qy$, and thus $px\\equiv1\\mod{q}$, and we have found the inverse of $p$ modulo $q$, namely, $x$."
   ]
  },
  {
   "cell_type": "code",
   "execution_count": null,
   "id": "81cc38e9",
   "metadata": {},
   "outputs": [],
   "source": []
  }
 ],
 "metadata": {
  "kernelspec": {
   "display_name": "Python 3",
   "language": "python",
   "name": "python3"
  },
  "language_info": {
   "codemirror_mode": {
    "name": "ipython",
    "version": 3
   },
   "file_extension": ".py",
   "mimetype": "text/x-python",
   "name": "python",
   "nbconvert_exporter": "python",
   "pygments_lexer": "ipython3",
   "version": "3.8.3"
  }
 },
 "nbformat": 4,
 "nbformat_minor": 5
}
